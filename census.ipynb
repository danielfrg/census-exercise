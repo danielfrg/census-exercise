{
 "cells": [
  {
   "cell_type": "markdown",
   "metadata": {},
   "source": [
    "## Census exercise - Exploration\n",
    "\n",
    "Since we know that the CSV doesn't include the headers. We start by manually getting the columns from the metadata txt file into a list that we can use later.\n",
    "\n",
    "We name the columns to make them easier to understand. We also get which features are Continuous and Nominal so we can pass this info to Pandas later."
   ]
  },
  {
   "cell_type": "code",
   "execution_count": 1,
   "metadata": {},
   "outputs": [],
   "source": [
    "%matplotlib inline\n",
    "\n",
    "import warnings\n",
    "warnings.simplefilter(action='ignore', category=FutureWarning)"
   ]
  },
  {
   "cell_type": "code",
   "execution_count": 93,
   "metadata": {},
   "outputs": [],
   "source": [
    "import numpy as np\n",
    "import pandas as pd"
   ]
  },
  {
   "cell_type": "code",
   "execution_count": 3,
   "metadata": {},
   "outputs": [],
   "source": [
    "columns = [\n",
    "    \"AGE\", \"CLS_WORKER\", \"INDUSTRY\", \"OCCUPATION\", \"EDUCATION\",\n",
    "    \"WAGE\", \"SCHOOL\", \"MARITAL\", \"MAJ_INDUSTRY\", \"MAJ_OCCUPATION\",\n",
    "    \"RACE\", \"HISPANIC\", \"GENDER\", \"UNION_MEM\", \"UNEMPLOYMENT\",\n",
    "    \"EMPLOYMENT_STATUS\", \"CAPGAIN\", \"CAPLOSS\" , \"DIVVAL\", \"TAX_STATUS\",\n",
    "    \"RESIDENCE_REG_PREV\", \"RESIDENCE_STATE_PREV\", \"HD_STATUS\", \"HD_SUMMARY\",\n",
    "    \"INSTANCE_WEIGHT\",\n",
    "    \"MIG_MTR1\", \"MIG_MTR3\", \"MIG_MTR4\", \"MIG_SAME\", \"MIG_SUN\",\n",
    "    \"NUM_EMP\", \"PARENT\", \"FATHER_COUNTRY\", \"MOTHER_COUNTRY\", \"COUNTRY\", \"CITIZENSHIP\",\n",
    "    \"TYPE_WORK\", \"VET_ADMIN\", \"VET_BENEFITS\", \"WEEKS_WORKED\", \"YEAR\",\n",
    "    \"TARGET\"\n",
    "]\n",
    "\n",
    "col_types = [\n",
    "    \"C\", \"N\", \"N\", \"N\", \"N\",\n",
    "    \"C\", \"N\", \"N\", \"N\", \"N\",\n",
    "    \"N\", \"N\", \"N\", \"N\", \"N\",\n",
    "    \"N\", \"C\", \"C\", \"C\", \"N\",\n",
    "    \"N\", \"N\", \"N\", \"N\",\n",
    "    \"C\",\n",
    "    \"N\", \"N\", \"N\", \"N\", \"N\",\n",
    "    \"C\", \"N\", \"N\", \"N\", \"N\", \"N\", \n",
    "    \"N\", \"N\", \"N\", \"C\", \"N\",\n",
    "    \"N\",\n",
    "]"
   ]
  },
  {
   "cell_type": "code",
   "execution_count": 4,
   "metadata": {},
   "outputs": [
    {
     "data": {
      "text/plain": [
       "(42, 42)"
      ]
     },
     "execution_count": 4,
     "metadata": {},
     "output_type": "execute_result"
    }
   ],
   "source": [
    "len(columns), len(col_types)"
   ]
  },
  {
   "cell_type": "markdown",
   "metadata": {},
   "source": [
    "Read one line of the file to see how many columns they are."
   ]
  },
  {
   "cell_type": "code",
   "execution_count": 5,
   "metadata": {},
   "outputs": [],
   "source": [
    "df = pd.read_csv(\"./data/us_census_full/census_income_learn.csv\", header=None, nrows=1)"
   ]
  },
  {
   "cell_type": "code",
   "execution_count": 6,
   "metadata": {},
   "outputs": [
    {
     "data": {
      "text/plain": [
       "42"
      ]
     },
     "execution_count": 6,
     "metadata": {},
     "output_type": "execute_result"
    }
   ],
   "source": [
    "len(df.columns)"
   ]
  },
  {
   "cell_type": "markdown",
   "metadata": {},
   "source": [
    "Indeed there is 42 columns.\n",
    "\n",
    "Now read the whole dataset and map it to the columns and make the ones that are \"Nominal\" to type \"Categorical\".\n",
    "\n",
    "Before doing that I noted by exploring the dataset manually that while there is no empty missing values there is some that represented as: \"?\", \"Not in universe\", and other variants."
   ]
  },
  {
   "cell_type": "code",
   "execution_count": 7,
   "metadata": {},
   "outputs": [],
   "source": [
    "nans = [\"?\", \"Not in universe\", \"Not in universe or children\", \"Not in universe under 1 year old\"]"
   ]
  },
  {
   "cell_type": "code",
   "execution_count": 8,
   "metadata": {},
   "outputs": [],
   "source": [
    "df = pd.read_csv(\"./data/us_census_full/census_income_learn.csv\", header=None, names=columns, na_values=nans, skipinitialspace=True)"
   ]
  },
  {
   "cell_type": "code",
   "execution_count": 9,
   "metadata": {},
   "outputs": [],
   "source": [
    "for col, type_ in zip(df.columns, col_types):\n",
    "    if type_ == \"N\":\n",
    "        df[col] = df[col].astype(\"category\")"
   ]
  },
  {
   "cell_type": "code",
   "execution_count": 10,
   "metadata": {},
   "outputs": [
    {
     "data": {
      "text/html": [
       "<div>\n",
       "<style scoped>\n",
       "    .dataframe tbody tr th:only-of-type {\n",
       "        vertical-align: middle;\n",
       "    }\n",
       "\n",
       "    .dataframe tbody tr th {\n",
       "        vertical-align: top;\n",
       "    }\n",
       "\n",
       "    .dataframe thead th {\n",
       "        text-align: right;\n",
       "    }\n",
       "</style>\n",
       "<table border=\"1\" class=\"dataframe\">\n",
       "  <thead>\n",
       "    <tr style=\"text-align: right;\">\n",
       "      <th></th>\n",
       "      <th>AGE</th>\n",
       "      <th>CLS_WORKER</th>\n",
       "      <th>INDUSTRY</th>\n",
       "      <th>OCCUPATION</th>\n",
       "      <th>EDUCATION</th>\n",
       "      <th>WAGE</th>\n",
       "      <th>SCHOOL</th>\n",
       "      <th>MARITAL</th>\n",
       "      <th>MAJ_INDUSTRY</th>\n",
       "      <th>MAJ_OCCUPATION</th>\n",
       "      <th>...</th>\n",
       "      <th>FATHER_COUNTRY</th>\n",
       "      <th>MOTHER_COUNTRY</th>\n",
       "      <th>COUNTRY</th>\n",
       "      <th>CITIZENSHIP</th>\n",
       "      <th>TYPE_WORK</th>\n",
       "      <th>VET_ADMIN</th>\n",
       "      <th>VET_BENEFITS</th>\n",
       "      <th>WEEKS_WORKED</th>\n",
       "      <th>YEAR</th>\n",
       "      <th>TARGET</th>\n",
       "    </tr>\n",
       "  </thead>\n",
       "  <tbody>\n",
       "    <tr>\n",
       "      <th>0</th>\n",
       "      <td>73</td>\n",
       "      <td>NaN</td>\n",
       "      <td>0</td>\n",
       "      <td>0</td>\n",
       "      <td>High school graduate</td>\n",
       "      <td>0</td>\n",
       "      <td>NaN</td>\n",
       "      <td>Widowed</td>\n",
       "      <td>NaN</td>\n",
       "      <td>NaN</td>\n",
       "      <td>...</td>\n",
       "      <td>United-States</td>\n",
       "      <td>United-States</td>\n",
       "      <td>United-States</td>\n",
       "      <td>Native- Born in the United States</td>\n",
       "      <td>0</td>\n",
       "      <td>NaN</td>\n",
       "      <td>2</td>\n",
       "      <td>0</td>\n",
       "      <td>95</td>\n",
       "      <td>- 50000.</td>\n",
       "    </tr>\n",
       "    <tr>\n",
       "      <th>1</th>\n",
       "      <td>58</td>\n",
       "      <td>Self-employed-not incorporated</td>\n",
       "      <td>4</td>\n",
       "      <td>34</td>\n",
       "      <td>Some college but no degree</td>\n",
       "      <td>0</td>\n",
       "      <td>NaN</td>\n",
       "      <td>Divorced</td>\n",
       "      <td>Construction</td>\n",
       "      <td>Precision production craft &amp; repair</td>\n",
       "      <td>...</td>\n",
       "      <td>United-States</td>\n",
       "      <td>United-States</td>\n",
       "      <td>United-States</td>\n",
       "      <td>Native- Born in the United States</td>\n",
       "      <td>0</td>\n",
       "      <td>NaN</td>\n",
       "      <td>2</td>\n",
       "      <td>52</td>\n",
       "      <td>94</td>\n",
       "      <td>- 50000.</td>\n",
       "    </tr>\n",
       "    <tr>\n",
       "      <th>2</th>\n",
       "      <td>18</td>\n",
       "      <td>NaN</td>\n",
       "      <td>0</td>\n",
       "      <td>0</td>\n",
       "      <td>10th grade</td>\n",
       "      <td>0</td>\n",
       "      <td>High school</td>\n",
       "      <td>Never married</td>\n",
       "      <td>NaN</td>\n",
       "      <td>NaN</td>\n",
       "      <td>...</td>\n",
       "      <td>Vietnam</td>\n",
       "      <td>Vietnam</td>\n",
       "      <td>Vietnam</td>\n",
       "      <td>Foreign born- Not a citizen of U S</td>\n",
       "      <td>0</td>\n",
       "      <td>NaN</td>\n",
       "      <td>2</td>\n",
       "      <td>0</td>\n",
       "      <td>95</td>\n",
       "      <td>- 50000.</td>\n",
       "    </tr>\n",
       "    <tr>\n",
       "      <th>3</th>\n",
       "      <td>9</td>\n",
       "      <td>NaN</td>\n",
       "      <td>0</td>\n",
       "      <td>0</td>\n",
       "      <td>Children</td>\n",
       "      <td>0</td>\n",
       "      <td>NaN</td>\n",
       "      <td>Never married</td>\n",
       "      <td>NaN</td>\n",
       "      <td>NaN</td>\n",
       "      <td>...</td>\n",
       "      <td>United-States</td>\n",
       "      <td>United-States</td>\n",
       "      <td>United-States</td>\n",
       "      <td>Native- Born in the United States</td>\n",
       "      <td>0</td>\n",
       "      <td>NaN</td>\n",
       "      <td>0</td>\n",
       "      <td>0</td>\n",
       "      <td>94</td>\n",
       "      <td>- 50000.</td>\n",
       "    </tr>\n",
       "    <tr>\n",
       "      <th>4</th>\n",
       "      <td>10</td>\n",
       "      <td>NaN</td>\n",
       "      <td>0</td>\n",
       "      <td>0</td>\n",
       "      <td>Children</td>\n",
       "      <td>0</td>\n",
       "      <td>NaN</td>\n",
       "      <td>Never married</td>\n",
       "      <td>NaN</td>\n",
       "      <td>NaN</td>\n",
       "      <td>...</td>\n",
       "      <td>United-States</td>\n",
       "      <td>United-States</td>\n",
       "      <td>United-States</td>\n",
       "      <td>Native- Born in the United States</td>\n",
       "      <td>0</td>\n",
       "      <td>NaN</td>\n",
       "      <td>0</td>\n",
       "      <td>0</td>\n",
       "      <td>94</td>\n",
       "      <td>- 50000.</td>\n",
       "    </tr>\n",
       "  </tbody>\n",
       "</table>\n",
       "<p>5 rows × 42 columns</p>\n",
       "</div>"
      ],
      "text/plain": [
       "   AGE                      CLS_WORKER INDUSTRY OCCUPATION  \\\n",
       "0   73                             NaN        0          0   \n",
       "1   58  Self-employed-not incorporated        4         34   \n",
       "2   18                             NaN        0          0   \n",
       "3    9                             NaN        0          0   \n",
       "4   10                             NaN        0          0   \n",
       "\n",
       "                    EDUCATION  WAGE       SCHOOL        MARITAL  MAJ_INDUSTRY  \\\n",
       "0        High school graduate     0          NaN        Widowed           NaN   \n",
       "1  Some college but no degree     0          NaN       Divorced  Construction   \n",
       "2                  10th grade     0  High school  Never married           NaN   \n",
       "3                    Children     0          NaN  Never married           NaN   \n",
       "4                    Children     0          NaN  Never married           NaN   \n",
       "\n",
       "                        MAJ_OCCUPATION    ...    FATHER_COUNTRY  \\\n",
       "0                                  NaN    ...     United-States   \n",
       "1  Precision production craft & repair    ...     United-States   \n",
       "2                                  NaN    ...           Vietnam   \n",
       "3                                  NaN    ...     United-States   \n",
       "4                                  NaN    ...     United-States   \n",
       "\n",
       "  MOTHER_COUNTRY        COUNTRY                          CITIZENSHIP  \\\n",
       "0  United-States  United-States    Native- Born in the United States   \n",
       "1  United-States  United-States    Native- Born in the United States   \n",
       "2        Vietnam        Vietnam  Foreign born- Not a citizen of U S    \n",
       "3  United-States  United-States    Native- Born in the United States   \n",
       "4  United-States  United-States    Native- Born in the United States   \n",
       "\n",
       "  TYPE_WORK VET_ADMIN  VET_BENEFITS  WEEKS_WORKED  YEAR    TARGET  \n",
       "0         0       NaN             2             0    95  - 50000.  \n",
       "1         0       NaN             2            52    94  - 50000.  \n",
       "2         0       NaN             2             0    95  - 50000.  \n",
       "3         0       NaN             0             0    94  - 50000.  \n",
       "4         0       NaN             0             0    94  - 50000.  \n",
       "\n",
       "[5 rows x 42 columns]"
      ]
     },
     "execution_count": 10,
     "metadata": {},
     "output_type": "execute_result"
    }
   ],
   "source": [
    "df.head()"
   ]
  },
  {
   "cell_type": "markdown",
   "metadata": {},
   "source": [
    "We can also look at the info of the DataFrame and see that it indeed matches the types of the metadata file."
   ]
  },
  {
   "cell_type": "code",
   "execution_count": 11,
   "metadata": {},
   "outputs": [
    {
     "name": "stdout",
     "output_type": "stream",
     "text": [
      "<class 'pandas.core.frame.DataFrame'>\n",
      "RangeIndex: 199523 entries, 0 to 199522\n",
      "Data columns (total 42 columns):\n",
      "AGE                     199523 non-null int64\n",
      "CLS_WORKER              99278 non-null category\n",
      "INDUSTRY                199523 non-null category\n",
      "OCCUPATION              199523 non-null category\n",
      "EDUCATION               199523 non-null category\n",
      "WAGE                    199523 non-null int64\n",
      "SCHOOL                  12580 non-null category\n",
      "MARITAL                 199523 non-null category\n",
      "MAJ_INDUSTRY            98839 non-null category\n",
      "MAJ_OCCUPATION          98839 non-null category\n",
      "RACE                    199523 non-null category\n",
      "HISPANIC                198649 non-null category\n",
      "GENDER                  199523 non-null category\n",
      "UNION_MEM               19064 non-null category\n",
      "UNEMPLOYMENT            6070 non-null category\n",
      "EMPLOYMENT_STATUS       199523 non-null category\n",
      "CAPGAIN                 199523 non-null int64\n",
      "CAPLOSS                 199523 non-null int64\n",
      "DIVVAL                  199523 non-null int64\n",
      "TAX_STATUS              199523 non-null category\n",
      "RESIDENCE_REG_PREV      15773 non-null category\n",
      "RESIDENCE_STATE_PREV    15065 non-null category\n",
      "HD_STATUS               199523 non-null category\n",
      "HD_SUMMARY              199523 non-null category\n",
      "INSTANCE_WEIGHT         199523 non-null float64\n",
      "MIG_MTR1                98311 non-null category\n",
      "MIG_MTR3                98311 non-null category\n",
      "MIG_MTR4                98311 non-null category\n",
      "MIG_SAME                98311 non-null category\n",
      "MIG_SUN                 15773 non-null category\n",
      "NUM_EMP                 199523 non-null int64\n",
      "PARENT                  55291 non-null category\n",
      "FATHER_COUNTRY          192810 non-null category\n",
      "MOTHER_COUNTRY          193404 non-null category\n",
      "COUNTRY                 196130 non-null category\n",
      "CITIZENSHIP             199523 non-null category\n",
      "TYPE_WORK               199523 non-null category\n",
      "VET_ADMIN               1984 non-null category\n",
      "VET_BENEFITS            199523 non-null category\n",
      "WEEKS_WORKED            199523 non-null int64\n",
      "YEAR                    199523 non-null category\n",
      "TARGET                  199523 non-null category\n",
      "dtypes: category(34), float64(1), int64(7)\n",
      "memory usage: 18.7 MB\n"
     ]
    }
   ],
   "source": [
    "df.info()"
   ]
  },
  {
   "cell_type": "markdown",
   "metadata": {},
   "source": [
    "Looks like everything is matching, so far so good."
   ]
  },
  {
   "cell_type": "markdown",
   "metadata": {},
   "source": [
    "## Missing values\n",
    "\n",
    "How many missing values do we have for each column?"
   ]
  },
  {
   "cell_type": "code",
   "execution_count": 12,
   "metadata": {},
   "outputs": [
    {
     "data": {
      "text/plain": [
       "AGE                      0.000000\n",
       "CLS_WORKER              50.242328\n",
       "INDUSTRY                 0.000000\n",
       "OCCUPATION               0.000000\n",
       "EDUCATION                0.000000\n",
       "WAGE                     0.000000\n",
       "SCHOOL                  93.694962\n",
       "MARITAL                  0.000000\n",
       "MAJ_INDUSTRY            50.462353\n",
       "MAJ_OCCUPATION          50.462353\n",
       "RACE                     0.000000\n",
       "HISPANIC                 0.438045\n",
       "GENDER                   0.000000\n",
       "UNION_MEM               90.445212\n",
       "UNEMPLOYMENT            96.957744\n",
       "EMPLOYMENT_STATUS        0.000000\n",
       "CAPGAIN                  0.000000\n",
       "CAPLOSS                  0.000000\n",
       "DIVVAL                   0.000000\n",
       "TAX_STATUS               0.000000\n",
       "RESIDENCE_REG_PREV      92.094646\n",
       "RESIDENCE_STATE_PREV    92.449492\n",
       "HD_STATUS                0.000000\n",
       "HD_SUMMARY               0.000000\n",
       "INSTANCE_WEIGHT          0.000000\n",
       "MIG_MTR1                50.726984\n",
       "MIG_MTR3                50.726984\n",
       "MIG_MTR4                50.726984\n",
       "MIG_SAME                50.726984\n",
       "MIG_SUN                 92.094646\n",
       "NUM_EMP                  0.000000\n",
       "PARENT                  72.288408\n",
       "FATHER_COUNTRY           3.364524\n",
       "MOTHER_COUNTRY           3.066814\n",
       "COUNTRY                  1.700556\n",
       "CITIZENSHIP              0.000000\n",
       "TYPE_WORK                0.000000\n",
       "VET_ADMIN               99.005628\n",
       "VET_BENEFITS             0.000000\n",
       "WEEKS_WORKED             0.000000\n",
       "YEAR                     0.000000\n",
       "TARGET                   0.000000\n",
       "dtype: float64"
      ]
     },
     "execution_count": 12,
     "metadata": {},
     "output_type": "execute_result"
    }
   ],
   "source": [
    "df.isnull().mean() * 100"
   ]
  },
  {
   "cell_type": "markdown",
   "metadata": {},
   "source": [
    "Based on this we can see that I might have made the wrong assumption of taking \"Not in universe\" as a missing value for some features.\n",
    "\n",
    "For example, for the `SCHOOL` feature this represents that the person was not in School as that week and this might be valuable information. For other features such as `VET_ADMIN` and `UNION_MEM` it does represent a missing value, probably an unanswered question since there is a full range of options for those features.\n",
    "\n",
    "Based on this I decided to fill some of the missing values for some of the features."
   ]
  },
  {
   "cell_type": "code",
   "execution_count": 13,
   "metadata": {},
   "outputs": [],
   "source": [
    "df.SCHOOL.cat.add_categories([\"No\"], inplace=True)"
   ]
  },
  {
   "cell_type": "code",
   "execution_count": 14,
   "metadata": {},
   "outputs": [],
   "source": [
    "df.SCHOOL.fillna(value='No', inplace=True)"
   ]
  },
  {
   "cell_type": "markdown",
   "metadata": {},
   "source": [
    "`MAJ_INDUSTRY` and `MAJ_OCCUPATION` missing value means that this are children which is valuable."
   ]
  },
  {
   "cell_type": "code",
   "execution_count": 15,
   "metadata": {},
   "outputs": [],
   "source": [
    "df.MAJ_INDUSTRY.cat.add_categories([\"NA\"], inplace=True)\n",
    "df.MAJ_OCCUPATION.cat.add_categories([\"NA\"], inplace=True)"
   ]
  },
  {
   "cell_type": "code",
   "execution_count": 16,
   "metadata": {},
   "outputs": [],
   "source": [
    "df.MAJ_INDUSTRY.fillna(value='NA', inplace=True)\n",
    "df.MAJ_OCCUPATION.fillna(value='NA', inplace=True)"
   ]
  },
  {
   "cell_type": "markdown",
   "metadata": {},
   "source": [
    "`RESIDENCE_REG_PREV` and `RESIDENCE_STATE_PREV` missing value might mean that the person did not moved states or regions."
   ]
  },
  {
   "cell_type": "code",
   "execution_count": 17,
   "metadata": {},
   "outputs": [],
   "source": [
    "df.RESIDENCE_REG_PREV.cat.add_categories([\"NA\"], inplace=True)\n",
    "df.RESIDENCE_STATE_PREV.cat.add_categories([\"NA\"], inplace=True)"
   ]
  },
  {
   "cell_type": "code",
   "execution_count": 18,
   "metadata": {},
   "outputs": [],
   "source": [
    "df.RESIDENCE_REG_PREV.fillna(value='NA', inplace=True)\n",
    "df.RESIDENCE_STATE_PREV.fillna(value='NA', inplace=True)"
   ]
  },
  {
   "cell_type": "markdown",
   "metadata": {},
   "source": [
    "`UNEMPLOYMENT` has a lot of misisng values so it won't provide a lot of value to a model and also that information is already encoded in the `EMPLOYMENT_STATUS` so remove it."
   ]
  },
  {
   "cell_type": "code",
   "execution_count": 19,
   "metadata": {},
   "outputs": [],
   "source": [
    "del df[\"UNEMPLOYMENT\"]"
   ]
  },
  {
   "cell_type": "code",
   "execution_count": 20,
   "metadata": {},
   "outputs": [
    {
     "data": {
      "text/plain": [
       "AGE                      0.000000\n",
       "CLS_WORKER              50.242328\n",
       "INDUSTRY                 0.000000\n",
       "OCCUPATION               0.000000\n",
       "EDUCATION                0.000000\n",
       "WAGE                     0.000000\n",
       "SCHOOL                   0.000000\n",
       "MARITAL                  0.000000\n",
       "MAJ_INDUSTRY             0.000000\n",
       "MAJ_OCCUPATION           0.000000\n",
       "RACE                     0.000000\n",
       "HISPANIC                 0.438045\n",
       "GENDER                   0.000000\n",
       "UNION_MEM               90.445212\n",
       "EMPLOYMENT_STATUS        0.000000\n",
       "CAPGAIN                  0.000000\n",
       "CAPLOSS                  0.000000\n",
       "DIVVAL                   0.000000\n",
       "TAX_STATUS               0.000000\n",
       "RESIDENCE_REG_PREV       0.000000\n",
       "RESIDENCE_STATE_PREV     0.000000\n",
       "HD_STATUS                0.000000\n",
       "HD_SUMMARY               0.000000\n",
       "INSTANCE_WEIGHT          0.000000\n",
       "MIG_MTR1                50.726984\n",
       "MIG_MTR3                50.726984\n",
       "MIG_MTR4                50.726984\n",
       "MIG_SAME                50.726984\n",
       "MIG_SUN                 92.094646\n",
       "NUM_EMP                  0.000000\n",
       "PARENT                  72.288408\n",
       "FATHER_COUNTRY           3.364524\n",
       "MOTHER_COUNTRY           3.066814\n",
       "COUNTRY                  1.700556\n",
       "CITIZENSHIP              0.000000\n",
       "TYPE_WORK                0.000000\n",
       "VET_ADMIN               99.005628\n",
       "VET_BENEFITS             0.000000\n",
       "WEEKS_WORKED             0.000000\n",
       "YEAR                     0.000000\n",
       "TARGET                   0.000000\n",
       "dtype: float64"
      ]
     },
     "execution_count": 20,
     "metadata": {},
     "output_type": "execute_result"
    }
   ],
   "source": [
    "df.isnull().mean() * 100"
   ]
  },
  {
   "cell_type": "markdown",
   "metadata": {},
   "source": [
    "We fixed some of the features, this needs more work and research to prove this assumptions and complete for the other variables."
   ]
  },
  {
   "cell_type": "markdown",
   "metadata": {},
   "source": [
    "## Feature selection\n",
    "\n",
    "We already did a little bit of manual feature selection based on our domain knowledge in the previous section but we can do a little bit more:\n",
    "\n",
    "1. `CAPGAIN` and `CAPLOSS` can be combined as `CAPNET`\n",
    "1. Based on the metadata file `HD_SUMMARY` is a basically subset of `HD_STATUS` so we remove `HD_STATUS`\n",
    "\n",
    "Again this is no an exhaustive list, for example the Country and Citizenship are likely to be show the same value but might not be the case so we let it there to see what the algorithm thinks."
   ]
  },
  {
   "cell_type": "code",
   "execution_count": 21,
   "metadata": {},
   "outputs": [],
   "source": [
    "df[\"CAPNET\"] = df.CAPGAIN - df.CAPLOSS"
   ]
  },
  {
   "cell_type": "code",
   "execution_count": 22,
   "metadata": {},
   "outputs": [],
   "source": [
    "del df[\"CAPGAIN\"]\n",
    "del df[\"CAPLOSS\"]"
   ]
  },
  {
   "cell_type": "code",
   "execution_count": 23,
   "metadata": {},
   "outputs": [],
   "source": [
    "del df[\"HD_STATUS\"]"
   ]
  },
  {
   "cell_type": "markdown",
   "metadata": {},
   "source": [
    "Remove the `INSTANCE_WEIGHT` as described in the metadata file."
   ]
  },
  {
   "cell_type": "code",
   "execution_count": 24,
   "metadata": {},
   "outputs": [],
   "source": [
    "del df[\"INSTANCE_WEIGHT\"]"
   ]
  },
  {
   "cell_type": "markdown",
   "metadata": {},
   "source": [
    "Finally create a column for the prediction as a number"
   ]
  },
  {
   "cell_type": "code",
   "execution_count": 25,
   "metadata": {},
   "outputs": [],
   "source": [
    "df[\"PREDICT\"] = 0\n",
    "df.loc[df.TARGET == '50000+.', 'PREDICT'] = 1"
   ]
  },
  {
   "cell_type": "markdown",
   "metadata": {},
   "source": [
    "## Visualizations\n",
    "\n",
    "I usually start this by looking at the distribution of the target variable, the metadata file says its quite heavy on the people who don't make more than 50k. Let's check that."
   ]
  },
  {
   "cell_type": "code",
   "execution_count": 26,
   "metadata": {},
   "outputs": [],
   "source": [
    "from matplotlib import pyplot as plt\n",
    "import seaborn as sns"
   ]
  },
  {
   "cell_type": "code",
   "execution_count": 27,
   "metadata": {},
   "outputs": [
    {
     "data": {
      "text/plain": [
       "- 50000.    187141\n",
       "50000+.      12382\n",
       "Name: TARGET, dtype: int64"
      ]
     },
     "execution_count": 27,
     "metadata": {},
     "output_type": "execute_result"
    }
   ],
   "source": [
    "df.TARGET.value_counts()"
   ]
  },
  {
   "cell_type": "code",
   "execution_count": 28,
   "metadata": {},
   "outputs": [
    {
     "data": {
      "text/plain": [
       "<matplotlib.axes._subplots.AxesSubplot at 0x11e444c18>"
      ]
     },
     "execution_count": 28,
     "metadata": {},
     "output_type": "execute_result"
    },
    {
     "data": {
      "image/png": "[encoded data removed]",
      "text/plain": [
       "<Figure size 432x288 with 1 Axes>"
      ]
     },
     "metadata": {
      "needs_background": "light"
     },
     "output_type": "display_data"
    }
   ],
   "source": [
    "df.TARGET.value_counts().plot(kind='bar')"
   ]
  },
  {
   "cell_type": "markdown",
   "metadata": {},
   "source": [
    "Indeed there is a big difference between the number of people who make more than 50k."
   ]
  },
  {
   "cell_type": "markdown",
   "metadata": {},
   "source": [
    "Based on the problem there is some intuition I had on what the best variables for this particular problem might be, for example: Employment, Gender, Race and Citizenship.\n",
    "\n",
    "Let's plot that and see if that intuition is valid."
   ]
  },
  {
   "cell_type": "code",
   "execution_count": 41,
   "metadata": {},
   "outputs": [
    {
     "data": {
      "image/png": "[encoded data removed]",
      "text/plain": [
       "<Figure size 1800x576 with 1 Axes>"
      ]
     },
     "metadata": {
      "needs_background": "light"
     },
     "output_type": "display_data"
    }
   ],
   "source": [
    "plt.figure(figsize=(25, 8))\n",
    "ax = sns.countplot(x=\"EMPLOYMENT_STATUS\", hue=\"TARGET\", data=df)"
   ]
  },
  {
   "cell_type": "markdown",
   "metadata": {},
   "source": [
    "We can see how \"Children or being in the Armed Forces\" looks like a strong feature and also shows that there is a lot of \"Children or being in the Armed Forces\" in the dataset, something to take into account later. Also as expected being \"Not in labor force, Unemployed full-time or part-time\"."
   ]
  },
  {
   "cell_type": "code",
   "execution_count": 43,
   "metadata": {},
   "outputs": [
    {
     "data": {
      "image/png": "[encoded data removed]",
      "text/plain": [
       "<Figure size 432x288 with 1 Axes>"
      ]
     },
     "metadata": {
      "needs_background": "light"
     },
     "output_type": "display_data"
    }
   ],
   "source": [
    "ax = sns.countplot(x=\"TARGET\", hue=\"GENDER\", data=df)"
   ]
  },
  {
   "cell_type": "markdown",
   "metadata": {},
   "source": [
    "We can see that in the -50k section females are higher and in the +50k males are higher. So this should help the classifier."
   ]
  },
  {
   "cell_type": "code",
   "execution_count": 44,
   "metadata": {},
   "outputs": [
    {
     "data": {
      "image/png": "[encoded data removed]",
      "text/plain": [
       "<Figure size 1800x576 with 1 Axes>"
      ]
     },
     "metadata": {
      "needs_background": "light"
     },
     "output_type": "display_data"
    }
   ],
   "source": [
    "plt.figure(figsize=(25, 8))\n",
    "ax = sns.countplot(x=\"RACE\", hue=\"TARGET\", data=df)"
   ]
  },
  {
   "cell_type": "markdown",
   "metadata": {},
   "source": [
    "Here we see how there predominant Race in the dataset is \"White\" but more interesting is that \"Black\" has a strong precense in the -50k section."
   ]
  },
  {
   "cell_type": "markdown",
   "metadata": {},
   "source": [
    "We can also take a look at the numerical features and see its distribution, for example it's possible that Age is correlated to the salary.\n",
    "\n",
    "First we can see the general distribution for the Age."
   ]
  },
  {
   "cell_type": "code",
   "execution_count": 32,
   "metadata": {},
   "outputs": [
    {
     "data": {
      "text/plain": [
       "<matplotlib.axes._subplots.AxesSubplot at 0x11e5896d8>"
      ]
     },
     "execution_count": 32,
     "metadata": {},
     "output_type": "execute_result"
    },
    {
     "data": {
      "image/png": "[encoded data removed]",
      "text/plain": [
       "<Figure size 432x288 with 1 Axes>"
      ]
     },
     "metadata": {
      "needs_background": "light"
     },
     "output_type": "display_data"
    }
   ],
   "source": [
    "sns.distplot(df.AGE)"
   ]
  },
  {
   "cell_type": "code",
   "execution_count": 33,
   "metadata": {},
   "outputs": [
    {
     "data": {
      "text/plain": [
       "<matplotlib.axes._subplots.AxesSubplot at 0x119aee048>"
      ]
     },
     "execution_count": 33,
     "metadata": {},
     "output_type": "execute_result"
    },
    {
     "data": {
      "image/png": "[encoded data removed]",
      "text/plain": [
       "<Figure size 432x288 with 1 Axes>"
      ]
     },
     "metadata": {
      "needs_background": "light"
     },
     "output_type": "display_data"
    }
   ],
   "source": [
    "sns.distplot(df[df.TARGET == '- 50000.'].AGE)\n",
    "sns.distplot(df[df.TARGET == '50000+.'].AGE, color='red')"
   ]
  },
  {
   "cell_type": "markdown",
   "metadata": {},
   "source": [
    "As expected the range of ages that are \"working\" ages (20s to 50s) have higher distribution of eople on winning more than 50k.\n",
    "\n",
    "What about the other Numerical variables?"
   ]
  },
  {
   "cell_type": "code",
   "execution_count": 34,
   "metadata": {},
   "outputs": [
    {
     "data": {
      "text/plain": [
       "<matplotlib.axes._subplots.AxesSubplot at 0x119be48d0>"
      ]
     },
     "execution_count": 34,
     "metadata": {},
     "output_type": "execute_result"
    },
    {
     "data": {
      "image/png": "[encoded data removed]",
      "text/plain": [
       "<Figure size 432x288 with 1 Axes>"
      ]
     },
     "metadata": {
      "needs_background": "light"
     },
     "output_type": "display_data"
    }
   ],
   "source": [
    "sns.distplot(df[df.TARGET == '- 50000.'].WAGE)\n",
    "sns.distplot(df[df.TARGET == '50000+.'].WAGE, color='red')"
   ]
  },
  {
   "cell_type": "markdown",
   "metadata": {},
   "source": [
    "Here we can see most of the values are around 0, since most wages are on the indeed 0 in the dataset, we can see that by looking at the quantiles."
   ]
  },
  {
   "cell_type": "code",
   "execution_count": 45,
   "metadata": {},
   "outputs": [
    {
     "data": {
      "text/html": [
       "<div>\n",
       "<style scoped>\n",
       "    .dataframe tbody tr th:only-of-type {\n",
       "        vertical-align: middle;\n",
       "    }\n",
       "\n",
       "    .dataframe tbody tr th {\n",
       "        vertical-align: top;\n",
       "    }\n",
       "\n",
       "    .dataframe thead th {\n",
       "        text-align: right;\n",
       "    }\n",
       "</style>\n",
       "<table border=\"1\" class=\"dataframe\">\n",
       "  <thead>\n",
       "    <tr style=\"text-align: right;\">\n",
       "      <th></th>\n",
       "      <th>AGE</th>\n",
       "      <th>WAGE</th>\n",
       "      <th>DIVVAL</th>\n",
       "      <th>NUM_EMP</th>\n",
       "      <th>WEEKS_WORKED</th>\n",
       "      <th>CAPNET</th>\n",
       "      <th>PREDICT</th>\n",
       "    </tr>\n",
       "  </thead>\n",
       "  <tbody>\n",
       "    <tr>\n",
       "      <th>count</th>\n",
       "      <td>199523.000000</td>\n",
       "      <td>199523.000000</td>\n",
       "      <td>199523.000000</td>\n",
       "      <td>199523.000000</td>\n",
       "      <td>199523.000000</td>\n",
       "      <td>199523.000000</td>\n",
       "      <td>199523.000000</td>\n",
       "    </tr>\n",
       "    <tr>\n",
       "      <th>mean</th>\n",
       "      <td>34.494199</td>\n",
       "      <td>55.426908</td>\n",
       "      <td>197.529533</td>\n",
       "      <td>1.956180</td>\n",
       "      <td>23.174897</td>\n",
       "      <td>397.405201</td>\n",
       "      <td>0.062058</td>\n",
       "    </tr>\n",
       "    <tr>\n",
       "      <th>std</th>\n",
       "      <td>22.310895</td>\n",
       "      <td>274.896454</td>\n",
       "      <td>1984.163658</td>\n",
       "      <td>2.365126</td>\n",
       "      <td>24.411488</td>\n",
       "      <td>4708.839558</td>\n",
       "      <td>0.241261</td>\n",
       "    </tr>\n",
       "    <tr>\n",
       "      <th>min</th>\n",
       "      <td>0.000000</td>\n",
       "      <td>0.000000</td>\n",
       "      <td>0.000000</td>\n",
       "      <td>0.000000</td>\n",
       "      <td>0.000000</td>\n",
       "      <td>-4608.000000</td>\n",
       "      <td>0.000000</td>\n",
       "    </tr>\n",
       "    <tr>\n",
       "      <th>25%</th>\n",
       "      <td>15.000000</td>\n",
       "      <td>0.000000</td>\n",
       "      <td>0.000000</td>\n",
       "      <td>0.000000</td>\n",
       "      <td>0.000000</td>\n",
       "      <td>0.000000</td>\n",
       "      <td>0.000000</td>\n",
       "    </tr>\n",
       "    <tr>\n",
       "      <th>50%</th>\n",
       "      <td>33.000000</td>\n",
       "      <td>0.000000</td>\n",
       "      <td>0.000000</td>\n",
       "      <td>1.000000</td>\n",
       "      <td>8.000000</td>\n",
       "      <td>0.000000</td>\n",
       "      <td>0.000000</td>\n",
       "    </tr>\n",
       "    <tr>\n",
       "      <th>75%</th>\n",
       "      <td>50.000000</td>\n",
       "      <td>0.000000</td>\n",
       "      <td>0.000000</td>\n",
       "      <td>4.000000</td>\n",
       "      <td>52.000000</td>\n",
       "      <td>0.000000</td>\n",
       "      <td>0.000000</td>\n",
       "    </tr>\n",
       "    <tr>\n",
       "      <th>max</th>\n",
       "      <td>90.000000</td>\n",
       "      <td>9999.000000</td>\n",
       "      <td>99999.000000</td>\n",
       "      <td>6.000000</td>\n",
       "      <td>52.000000</td>\n",
       "      <td>99999.000000</td>\n",
       "      <td>1.000000</td>\n",
       "    </tr>\n",
       "  </tbody>\n",
       "</table>\n",
       "</div>"
      ],
      "text/plain": [
       "                 AGE           WAGE         DIVVAL        NUM_EMP  \\\n",
       "count  199523.000000  199523.000000  199523.000000  199523.000000   \n",
       "mean       34.494199      55.426908     197.529533       1.956180   \n",
       "std        22.310895     274.896454    1984.163658       2.365126   \n",
       "min         0.000000       0.000000       0.000000       0.000000   \n",
       "25%        15.000000       0.000000       0.000000       0.000000   \n",
       "50%        33.000000       0.000000       0.000000       1.000000   \n",
       "75%        50.000000       0.000000       0.000000       4.000000   \n",
       "max        90.000000    9999.000000   99999.000000       6.000000   \n",
       "\n",
       "        WEEKS_WORKED         CAPNET        PREDICT  \n",
       "count  199523.000000  199523.000000  199523.000000  \n",
       "mean       23.174897     397.405201       0.062058  \n",
       "std        24.411488    4708.839558       0.241261  \n",
       "min         0.000000   -4608.000000       0.000000  \n",
       "25%         0.000000       0.000000       0.000000  \n",
       "50%         8.000000       0.000000       0.000000  \n",
       "75%        52.000000       0.000000       0.000000  \n",
       "max        52.000000   99999.000000       1.000000  "
      ]
     },
     "execution_count": 45,
     "metadata": {},
     "output_type": "execute_result"
    }
   ],
   "source": [
    "df.describe()"
   ]
  },
  {
   "cell_type": "markdown",
   "metadata": {},
   "source": [
    "This actually happens for a couple of features, lets remote the zeros and outliers and plot the distributions for all of them."
   ]
  },
  {
   "cell_type": "code",
   "execution_count": 61,
   "metadata": {},
   "outputs": [
    {
     "data": {
      "text/plain": [
       "<matplotlib.axes._subplots.AxesSubplot at 0x120651c50>"
      ]
     },
     "execution_count": 61,
     "metadata": {},
     "output_type": "execute_result"
    },
    {
     "data": {
      "image/png": "[encoded data removed]",
      "text/plain": [
       "<Figure size 432x288 with 1 Axes>"
      ]
     },
     "metadata": {
      "needs_background": "light"
     },
     "output_type": "display_data"
    }
   ],
   "source": [
    "sns.distplot(df.WAGE[(df.TARGET == '- 50000.') & (df.WAGE > 0) & (df.WAGE < df.WAGE.quantile(0.99))])\n",
    "sns.distplot(df.WAGE[(df.TARGET == '50000+.') & (df.WAGE > 0) & (df.WAGE < df.WAGE.quantile(0.99))], color='red')"
   ]
  },
  {
   "cell_type": "code",
   "execution_count": 62,
   "metadata": {},
   "outputs": [
    {
     "data": {
      "text/plain": [
       "<matplotlib.axes._subplots.AxesSubplot at 0x1206acb38>"
      ]
     },
     "execution_count": 62,
     "metadata": {},
     "output_type": "execute_result"
    },
    {
     "data": {
      "image/png": "[encoded data removed]",
      "text/plain": [
       "<Figure size 432x288 with 1 Axes>"
      ]
     },
     "metadata": {
      "needs_background": "light"
     },
     "output_type": "display_data"
    }
   ],
   "source": [
    "sns.distplot(df.DIVVAL[(df.TARGET == '- 50000.') & (df.DIVVAL > 0) & (df.DIVVAL < df.DIVVAL.quantile(0.99))])\n",
    "sns.distplot(df.DIVVAL[(df.TARGET == '50000+.') & (df.DIVVAL > 0) & (df.DIVVAL < df.DIVVAL.quantile(0.99))], color='red')"
   ]
  },
  {
   "cell_type": "code",
   "execution_count": 63,
   "metadata": {},
   "outputs": [
    {
     "data": {
      "text/plain": [
       "<matplotlib.axes._subplots.AxesSubplot at 0x1205016a0>"
      ]
     },
     "execution_count": 63,
     "metadata": {},
     "output_type": "execute_result"
    },
    {
     "data": {
      "image/png": "[encoded data removed]",
      "text/plain": [
       "<Figure size 432x288 with 1 Axes>"
      ]
     },
     "metadata": {
      "needs_background": "light"
     },
     "output_type": "display_data"
    }
   ],
   "source": [
    "sns.distplot(df.WEEKS_WORKED[(df.TARGET == '- 50000.') & (df.WEEKS_WORKED > 0) & (df.WEEKS_WORKED < df.WEEKS_WORKED.quantile(0.99))])\n",
    "sns.distplot(df.WEEKS_WORKED[(df.TARGET == '50000+.') & (df.WEEKS_WORKED > 0) & (df.WEEKS_WORKED < df.WEEKS_WORKED.quantile(0.99))], color='red')"
   ]
  },
  {
   "cell_type": "code",
   "execution_count": 64,
   "metadata": {},
   "outputs": [
    {
     "data": {
      "text/plain": [
       "<matplotlib.axes._subplots.AxesSubplot at 0x120913748>"
      ]
     },
     "execution_count": 64,
     "metadata": {},
     "output_type": "execute_result"
    },
    {
     "data": {
      "image/png": "[encoded data removed]",
      "text/plain": [
       "<Figure size 432x288 with 1 Axes>"
      ]
     },
     "metadata": {
      "needs_background": "light"
     },
     "output_type": "display_data"
    }
   ],
   "source": [
    "sns.distplot(df.CAPNET[(df.TARGET == '- 50000.') & (df.CAPNET > 0) & (df.CAPNET < df.CAPNET.quantile(0.99))])\n",
    "sns.distplot(df.CAPNET[(df.TARGET == '50000+.') & (df.CAPNET > 0) & (df.CAPNET < df.CAPNET.quantile(0.99))], color='red')"
   ]
  },
  {
   "cell_type": "markdown",
   "metadata": {},
   "source": [
    "## Model\n",
    "\n",
    "We are going to build two models, one Logistic regression and one Extra Tree classifier using scikit-learn.\n",
    "\n",
    "First we move the preprocessing steps we used in the training data to a function we can resuse on the test dataset.\n",
    "\n",
    "Then we load everything and make numpy arrays."
   ]
  },
  {
   "cell_type": "code",
   "execution_count": 91,
   "metadata": {},
   "outputs": [],
   "source": [
    "from sklearn import linear_model\n",
    "from sklearn.metrics import confusion_matrix"
   ]
  },
  {
   "cell_type": "code",
   "execution_count": 66,
   "metadata": {},
   "outputs": [],
   "source": [
    "def preprocess(fname):\n",
    "    nans = [\"?\", \"Not in universe\", \"Not in universe or children\", \"Not in universe under 1 year old\"]\n",
    "    df = pd.read_csv(fname, header=None, names=columns, na_values=nans, skipinitialspace=True)\n",
    "    \n",
    "    for col, type_ in zip(df.columns, col_types):\n",
    "        if type_ == \"N\":\n",
    "            df[col] = df[col].astype(\"category\")\n",
    "            \n",
    "    df.SCHOOL.cat.add_categories([\"No\"], inplace=True)\n",
    "    df.SCHOOL.fillna(value='No', inplace=True)\n",
    "    \n",
    "    df.MAJ_INDUSTRY.cat.add_categories([\"NA\"], inplace=True)\n",
    "    df.MAJ_OCCUPATION.cat.add_categories([\"NA\"], inplace=True)\n",
    "    df.MAJ_INDUSTRY.fillna(value='NA', inplace=True)\n",
    "    df.MAJ_OCCUPATION.fillna(value='NA', inplace=True)\n",
    "    \n",
    "    df.RESIDENCE_REG_PREV.cat.add_categories([\"NA\"], inplace=True)\n",
    "    df.RESIDENCE_STATE_PREV.cat.add_categories([\"NA\"], inplace=True)\n",
    "    df.RESIDENCE_REG_PREV.fillna(value='NA', inplace=True)\n",
    "    df.RESIDENCE_STATE_PREV.fillna(value='NA', inplace=True)\n",
    "    del df[\"UNEMPLOYMENT\"]\n",
    "    \n",
    "    df[\"CAPNET\"] = df.CAPGAIN - df.CAPLOSS\n",
    "    del df[\"CAPGAIN\"]\n",
    "    del df[\"CAPLOSS\"]\n",
    "    del df[\"HD_STATUS\"]\n",
    "    del df[\"INSTANCE_WEIGHT\"]\n",
    "    df[\"PREDICT\"] = 0\n",
    "    df.loc[df.TARGET == '50000+.', 'PREDICT'] = 1\n",
    "        \n",
    "    del df[\"TARGET\"]\n",
    "    return df"
   ]
  },
  {
   "cell_type": "code",
   "execution_count": 101,
   "metadata": {},
   "outputs": [],
   "source": [
    "df_train = preprocess(\"./data/us_census_full/census_income_learn.csv\")\n",
    "df_test = preprocess(\"./data/us_census_full/census_income_test.csv\")"
   ]
  },
  {
   "cell_type": "code",
   "execution_count": 102,
   "metadata": {},
   "outputs": [
    {
     "data": {
      "text/html": [
       "<div>\n",
       "<style scoped>\n",
       "    .dataframe tbody tr th:only-of-type {\n",
       "        vertical-align: middle;\n",
       "    }\n",
       "\n",
       "    .dataframe tbody tr th {\n",
       "        vertical-align: top;\n",
       "    }\n",
       "\n",
       "    .dataframe thead th {\n",
       "        text-align: right;\n",
       "    }\n",
       "</style>\n",
       "<table border=\"1\" class=\"dataframe\">\n",
       "  <thead>\n",
       "    <tr style=\"text-align: right;\">\n",
       "      <th></th>\n",
       "      <th>AGE</th>\n",
       "      <th>CLS_WORKER</th>\n",
       "      <th>INDUSTRY</th>\n",
       "      <th>OCCUPATION</th>\n",
       "      <th>EDUCATION</th>\n",
       "      <th>WAGE</th>\n",
       "      <th>SCHOOL</th>\n",
       "      <th>MARITAL</th>\n",
       "      <th>MAJ_INDUSTRY</th>\n",
       "      <th>MAJ_OCCUPATION</th>\n",
       "      <th>...</th>\n",
       "      <th>MOTHER_COUNTRY</th>\n",
       "      <th>COUNTRY</th>\n",
       "      <th>CITIZENSHIP</th>\n",
       "      <th>TYPE_WORK</th>\n",
       "      <th>VET_ADMIN</th>\n",
       "      <th>VET_BENEFITS</th>\n",
       "      <th>WEEKS_WORKED</th>\n",
       "      <th>YEAR</th>\n",
       "      <th>CAPNET</th>\n",
       "      <th>PREDICT</th>\n",
       "    </tr>\n",
       "  </thead>\n",
       "  <tbody>\n",
       "    <tr>\n",
       "      <th>0</th>\n",
       "      <td>73</td>\n",
       "      <td>NaN</td>\n",
       "      <td>0</td>\n",
       "      <td>0</td>\n",
       "      <td>High school graduate</td>\n",
       "      <td>0</td>\n",
       "      <td>No</td>\n",
       "      <td>Widowed</td>\n",
       "      <td>NA</td>\n",
       "      <td>NA</td>\n",
       "      <td>...</td>\n",
       "      <td>United-States</td>\n",
       "      <td>United-States</td>\n",
       "      <td>Native- Born in the United States</td>\n",
       "      <td>0</td>\n",
       "      <td>NaN</td>\n",
       "      <td>2</td>\n",
       "      <td>0</td>\n",
       "      <td>95</td>\n",
       "      <td>0</td>\n",
       "      <td>0</td>\n",
       "    </tr>\n",
       "    <tr>\n",
       "      <th>1</th>\n",
       "      <td>58</td>\n",
       "      <td>Self-employed-not incorporated</td>\n",
       "      <td>4</td>\n",
       "      <td>34</td>\n",
       "      <td>Some college but no degree</td>\n",
       "      <td>0</td>\n",
       "      <td>No</td>\n",
       "      <td>Divorced</td>\n",
       "      <td>Construction</td>\n",
       "      <td>Precision production craft &amp; repair</td>\n",
       "      <td>...</td>\n",
       "      <td>United-States</td>\n",
       "      <td>United-States</td>\n",
       "      <td>Native- Born in the United States</td>\n",
       "      <td>0</td>\n",
       "      <td>NaN</td>\n",
       "      <td>2</td>\n",
       "      <td>52</td>\n",
       "      <td>94</td>\n",
       "      <td>0</td>\n",
       "      <td>0</td>\n",
       "    </tr>\n",
       "    <tr>\n",
       "      <th>2</th>\n",
       "      <td>18</td>\n",
       "      <td>NaN</td>\n",
       "      <td>0</td>\n",
       "      <td>0</td>\n",
       "      <td>10th grade</td>\n",
       "      <td>0</td>\n",
       "      <td>High school</td>\n",
       "      <td>Never married</td>\n",
       "      <td>NA</td>\n",
       "      <td>NA</td>\n",
       "      <td>...</td>\n",
       "      <td>Vietnam</td>\n",
       "      <td>Vietnam</td>\n",
       "      <td>Foreign born- Not a citizen of U S</td>\n",
       "      <td>0</td>\n",
       "      <td>NaN</td>\n",
       "      <td>2</td>\n",
       "      <td>0</td>\n",
       "      <td>95</td>\n",
       "      <td>0</td>\n",
       "      <td>0</td>\n",
       "    </tr>\n",
       "    <tr>\n",
       "      <th>3</th>\n",
       "      <td>9</td>\n",
       "      <td>NaN</td>\n",
       "      <td>0</td>\n",
       "      <td>0</td>\n",
       "      <td>Children</td>\n",
       "      <td>0</td>\n",
       "      <td>No</td>\n",
       "      <td>Never married</td>\n",
       "      <td>NA</td>\n",
       "      <td>NA</td>\n",
       "      <td>...</td>\n",
       "      <td>United-States</td>\n",
       "      <td>United-States</td>\n",
       "      <td>Native- Born in the United States</td>\n",
       "      <td>0</td>\n",
       "      <td>NaN</td>\n",
       "      <td>0</td>\n",
       "      <td>0</td>\n",
       "      <td>94</td>\n",
       "      <td>0</td>\n",
       "      <td>0</td>\n",
       "    </tr>\n",
       "    <tr>\n",
       "      <th>4</th>\n",
       "      <td>10</td>\n",
       "      <td>NaN</td>\n",
       "      <td>0</td>\n",
       "      <td>0</td>\n",
       "      <td>Children</td>\n",
       "      <td>0</td>\n",
       "      <td>No</td>\n",
       "      <td>Never married</td>\n",
       "      <td>NA</td>\n",
       "      <td>NA</td>\n",
       "      <td>...</td>\n",
       "      <td>United-States</td>\n",
       "      <td>United-States</td>\n",
       "      <td>Native- Born in the United States</td>\n",
       "      <td>0</td>\n",
       "      <td>NaN</td>\n",
       "      <td>0</td>\n",
       "      <td>0</td>\n",
       "      <td>94</td>\n",
       "      <td>0</td>\n",
       "      <td>0</td>\n",
       "    </tr>\n",
       "  </tbody>\n",
       "</table>\n",
       "<p>5 rows × 38 columns</p>\n",
       "</div>"
      ],
      "text/plain": [
       "   AGE                      CLS_WORKER INDUSTRY OCCUPATION  \\\n",
       "0   73                             NaN        0          0   \n",
       "1   58  Self-employed-not incorporated        4         34   \n",
       "2   18                             NaN        0          0   \n",
       "3    9                             NaN        0          0   \n",
       "4   10                             NaN        0          0   \n",
       "\n",
       "                    EDUCATION  WAGE       SCHOOL        MARITAL  MAJ_INDUSTRY  \\\n",
       "0        High school graduate     0           No        Widowed            NA   \n",
       "1  Some college but no degree     0           No       Divorced  Construction   \n",
       "2                  10th grade     0  High school  Never married            NA   \n",
       "3                    Children     0           No  Never married            NA   \n",
       "4                    Children     0           No  Never married            NA   \n",
       "\n",
       "                        MAJ_OCCUPATION   ...   MOTHER_COUNTRY        COUNTRY  \\\n",
       "0                                   NA   ...    United-States  United-States   \n",
       "1  Precision production craft & repair   ...    United-States  United-States   \n",
       "2                                   NA   ...          Vietnam        Vietnam   \n",
       "3                                   NA   ...    United-States  United-States   \n",
       "4                                   NA   ...    United-States  United-States   \n",
       "\n",
       "                           CITIZENSHIP TYPE_WORK VET_ADMIN  VET_BENEFITS  \\\n",
       "0    Native- Born in the United States         0       NaN             2   \n",
       "1    Native- Born in the United States         0       NaN             2   \n",
       "2  Foreign born- Not a citizen of U S          0       NaN             2   \n",
       "3    Native- Born in the United States         0       NaN             0   \n",
       "4    Native- Born in the United States         0       NaN             0   \n",
       "\n",
       "  WEEKS_WORKED YEAR CAPNET PREDICT  \n",
       "0            0   95      0       0  \n",
       "1           52   94      0       0  \n",
       "2            0   95      0       0  \n",
       "3            0   94      0       0  \n",
       "4            0   94      0       0  \n",
       "\n",
       "[5 rows x 38 columns]"
      ]
     },
     "execution_count": 102,
     "metadata": {},
     "output_type": "execute_result"
    }
   ],
   "source": [
    "df_train.head()"
   ]
  },
  {
   "cell_type": "code",
   "execution_count": 103,
   "metadata": {},
   "outputs": [
    {
     "data": {
      "text/html": [
       "<div>\n",
       "<style scoped>\n",
       "    .dataframe tbody tr th:only-of-type {\n",
       "        vertical-align: middle;\n",
       "    }\n",
       "\n",
       "    .dataframe tbody tr th {\n",
       "        vertical-align: top;\n",
       "    }\n",
       "\n",
       "    .dataframe thead th {\n",
       "        text-align: right;\n",
       "    }\n",
       "</style>\n",
       "<table border=\"1\" class=\"dataframe\">\n",
       "  <thead>\n",
       "    <tr style=\"text-align: right;\">\n",
       "      <th></th>\n",
       "      <th>AGE</th>\n",
       "      <th>CLS_WORKER</th>\n",
       "      <th>INDUSTRY</th>\n",
       "      <th>OCCUPATION</th>\n",
       "      <th>EDUCATION</th>\n",
       "      <th>WAGE</th>\n",
       "      <th>SCHOOL</th>\n",
       "      <th>MARITAL</th>\n",
       "      <th>MAJ_INDUSTRY</th>\n",
       "      <th>MAJ_OCCUPATION</th>\n",
       "      <th>...</th>\n",
       "      <th>MOTHER_COUNTRY</th>\n",
       "      <th>COUNTRY</th>\n",
       "      <th>CITIZENSHIP</th>\n",
       "      <th>TYPE_WORK</th>\n",
       "      <th>VET_ADMIN</th>\n",
       "      <th>VET_BENEFITS</th>\n",
       "      <th>WEEKS_WORKED</th>\n",
       "      <th>YEAR</th>\n",
       "      <th>CAPNET</th>\n",
       "      <th>PREDICT</th>\n",
       "    </tr>\n",
       "  </thead>\n",
       "  <tbody>\n",
       "    <tr>\n",
       "      <th>0</th>\n",
       "      <td>38</td>\n",
       "      <td>Private</td>\n",
       "      <td>6</td>\n",
       "      <td>36</td>\n",
       "      <td>1st 2nd 3rd or 4th grade</td>\n",
       "      <td>0</td>\n",
       "      <td>No</td>\n",
       "      <td>Married-civilian spouse present</td>\n",
       "      <td>Manufacturing-durable goods</td>\n",
       "      <td>Machine operators assmblrs &amp; inspctrs</td>\n",
       "      <td>...</td>\n",
       "      <td>Mexico</td>\n",
       "      <td>Mexico</td>\n",
       "      <td>Foreign born- Not a citizen of U S</td>\n",
       "      <td>0</td>\n",
       "      <td>NaN</td>\n",
       "      <td>2</td>\n",
       "      <td>12</td>\n",
       "      <td>95</td>\n",
       "      <td>0</td>\n",
       "      <td>0</td>\n",
       "    </tr>\n",
       "    <tr>\n",
       "      <th>1</th>\n",
       "      <td>44</td>\n",
       "      <td>Self-employed-not incorporated</td>\n",
       "      <td>37</td>\n",
       "      <td>12</td>\n",
       "      <td>Associates degree-occup /vocational</td>\n",
       "      <td>0</td>\n",
       "      <td>No</td>\n",
       "      <td>Married-civilian spouse present</td>\n",
       "      <td>Business and repair services</td>\n",
       "      <td>Professional specialty</td>\n",
       "      <td>...</td>\n",
       "      <td>United-States</td>\n",
       "      <td>United-States</td>\n",
       "      <td>Native- Born in the United States</td>\n",
       "      <td>0</td>\n",
       "      <td>NaN</td>\n",
       "      <td>2</td>\n",
       "      <td>26</td>\n",
       "      <td>95</td>\n",
       "      <td>0</td>\n",
       "      <td>0</td>\n",
       "    </tr>\n",
       "    <tr>\n",
       "      <th>2</th>\n",
       "      <td>2</td>\n",
       "      <td>NaN</td>\n",
       "      <td>0</td>\n",
       "      <td>0</td>\n",
       "      <td>Children</td>\n",
       "      <td>0</td>\n",
       "      <td>No</td>\n",
       "      <td>Never married</td>\n",
       "      <td>NA</td>\n",
       "      <td>NA</td>\n",
       "      <td>...</td>\n",
       "      <td>United-States</td>\n",
       "      <td>United-States</td>\n",
       "      <td>Native- Born in the United States</td>\n",
       "      <td>0</td>\n",
       "      <td>NaN</td>\n",
       "      <td>0</td>\n",
       "      <td>0</td>\n",
       "      <td>95</td>\n",
       "      <td>0</td>\n",
       "      <td>0</td>\n",
       "    </tr>\n",
       "    <tr>\n",
       "      <th>3</th>\n",
       "      <td>35</td>\n",
       "      <td>Private</td>\n",
       "      <td>29</td>\n",
       "      <td>3</td>\n",
       "      <td>High school graduate</td>\n",
       "      <td>0</td>\n",
       "      <td>No</td>\n",
       "      <td>Divorced</td>\n",
       "      <td>Transportation</td>\n",
       "      <td>Executive admin and managerial</td>\n",
       "      <td>...</td>\n",
       "      <td>United-States</td>\n",
       "      <td>United-States</td>\n",
       "      <td>Native- Born in the United States</td>\n",
       "      <td>2</td>\n",
       "      <td>NaN</td>\n",
       "      <td>2</td>\n",
       "      <td>52</td>\n",
       "      <td>94</td>\n",
       "      <td>0</td>\n",
       "      <td>0</td>\n",
       "    </tr>\n",
       "    <tr>\n",
       "      <th>4</th>\n",
       "      <td>49</td>\n",
       "      <td>Private</td>\n",
       "      <td>4</td>\n",
       "      <td>34</td>\n",
       "      <td>High school graduate</td>\n",
       "      <td>0</td>\n",
       "      <td>No</td>\n",
       "      <td>Divorced</td>\n",
       "      <td>Construction</td>\n",
       "      <td>Precision production craft &amp; repair</td>\n",
       "      <td>...</td>\n",
       "      <td>United-States</td>\n",
       "      <td>United-States</td>\n",
       "      <td>Native- Born in the United States</td>\n",
       "      <td>0</td>\n",
       "      <td>NaN</td>\n",
       "      <td>2</td>\n",
       "      <td>50</td>\n",
       "      <td>95</td>\n",
       "      <td>0</td>\n",
       "      <td>0</td>\n",
       "    </tr>\n",
       "  </tbody>\n",
       "</table>\n",
       "<p>5 rows × 38 columns</p>\n",
       "</div>"
      ],
      "text/plain": [
       "   AGE                      CLS_WORKER INDUSTRY OCCUPATION  \\\n",
       "0   38                         Private        6         36   \n",
       "1   44  Self-employed-not incorporated       37         12   \n",
       "2    2                             NaN        0          0   \n",
       "3   35                         Private       29          3   \n",
       "4   49                         Private        4         34   \n",
       "\n",
       "                             EDUCATION  WAGE SCHOOL  \\\n",
       "0             1st 2nd 3rd or 4th grade     0     No   \n",
       "1  Associates degree-occup /vocational     0     No   \n",
       "2                             Children     0     No   \n",
       "3                 High school graduate     0     No   \n",
       "4                 High school graduate     0     No   \n",
       "\n",
       "                           MARITAL                  MAJ_INDUSTRY  \\\n",
       "0  Married-civilian spouse present   Manufacturing-durable goods   \n",
       "1  Married-civilian spouse present  Business and repair services   \n",
       "2                    Never married                            NA   \n",
       "3                         Divorced                Transportation   \n",
       "4                         Divorced                  Construction   \n",
       "\n",
       "                          MAJ_OCCUPATION   ...   MOTHER_COUNTRY  \\\n",
       "0  Machine operators assmblrs & inspctrs   ...           Mexico   \n",
       "1                 Professional specialty   ...    United-States   \n",
       "2                                     NA   ...    United-States   \n",
       "3         Executive admin and managerial   ...    United-States   \n",
       "4    Precision production craft & repair   ...    United-States   \n",
       "\n",
       "         COUNTRY                          CITIZENSHIP TYPE_WORK VET_ADMIN  \\\n",
       "0         Mexico  Foreign born- Not a citizen of U S          0       NaN   \n",
       "1  United-States    Native- Born in the United States         0       NaN   \n",
       "2  United-States    Native- Born in the United States         0       NaN   \n",
       "3  United-States    Native- Born in the United States         2       NaN   \n",
       "4  United-States    Native- Born in the United States         0       NaN   \n",
       "\n",
       "   VET_BENEFITS WEEKS_WORKED YEAR CAPNET PREDICT  \n",
       "0             2           12   95      0       0  \n",
       "1             2           26   95      0       0  \n",
       "2             0            0   95      0       0  \n",
       "3             2           52   94      0       0  \n",
       "4             2           50   95      0       0  \n",
       "\n",
       "[5 rows x 38 columns]"
      ]
     },
     "execution_count": 103,
     "metadata": {},
     "output_type": "execute_result"
    }
   ],
   "source": [
    "df_test.head()"
   ]
  },
  {
   "cell_type": "code",
   "execution_count": 104,
   "metadata": {},
   "outputs": [],
   "source": [
    "y_train = df_train.PREDICT.values\n",
    "y_test = df_test.PREDICT.values"
   ]
  },
  {
   "cell_type": "code",
   "execution_count": 105,
   "metadata": {},
   "outputs": [],
   "source": [
    "del df_train[\"PREDICT\"]\n",
    "del df_test[\"PREDICT\"]"
   ]
  },
  {
   "cell_type": "code",
   "execution_count": 106,
   "metadata": {},
   "outputs": [],
   "source": [
    "X_train = pd.get_dummies(df_train).values\n",
    "X_test = pd.get_dummies(df_test).values"
   ]
  },
  {
   "cell_type": "code",
   "execution_count": 107,
   "metadata": {},
   "outputs": [
    {
     "data": {
      "text/plain": [
       "((199523, 447), (99762, 447))"
      ]
     },
     "execution_count": 107,
     "metadata": {},
     "output_type": "execute_result"
    }
   ],
   "source": [
    "X_train.shape, X_test.shape"
   ]
  },
  {
   "cell_type": "markdown",
   "metadata": {},
   "source": [
    "Now we can train the model"
   ]
  },
  {
   "cell_type": "code",
   "execution_count": 108,
   "metadata": {},
   "outputs": [],
   "source": [
    "logistic_clf = linear_model.LogisticRegression()"
   ]
  },
  {
   "cell_type": "code",
   "execution_count": 109,
   "metadata": {},
   "outputs": [
    {
     "data": {
      "text/plain": [
       "LogisticRegression(C=1.0, class_weight=None, dual=False, fit_intercept=True,\n",
       "          intercept_scaling=1, max_iter=100, multi_class='ovr', n_jobs=1,\n",
       "          penalty='l2', random_state=None, solver='liblinear', tol=0.0001,\n",
       "          verbose=0, warm_start=False)"
      ]
     },
     "execution_count": 109,
     "metadata": {},
     "output_type": "execute_result"
    }
   ],
   "source": [
    "logistic_clf.fit(X_train, y_train)"
   ]
  },
  {
   "cell_type": "code",
   "execution_count": 110,
   "metadata": {},
   "outputs": [
    {
     "data": {
      "text/plain": [
       "0.9527475391431607"
      ]
     },
     "execution_count": 110,
     "metadata": {},
     "output_type": "execute_result"
    }
   ],
   "source": [
    "logistic_clf.score(X_test, y_test)"
   ]
  },
  {
   "cell_type": "code",
   "execution_count": 111,
   "metadata": {},
   "outputs": [
    {
     "data": {
      "text/plain": [
       "array([[92674,   902],\n",
       "       [ 3812,  2374]])"
      ]
     },
     "execution_count": 111,
     "metadata": {},
     "output_type": "execute_result"
    }
   ],
   "source": [
    "confusion_matrix(y_test, logistic_clf.predict(X_test))"
   ]
  },
  {
   "cell_type": "markdown",
   "metadata": {},
   "source": [
    "Now we can train multiple Decision Trees using an Extra Tree Classifier"
   ]
  },
  {
   "cell_type": "code",
   "execution_count": 133,
   "metadata": {},
   "outputs": [],
   "source": [
    "from sklearn.ensemble import ExtraTreesClassifier"
   ]
  },
  {
   "cell_type": "code",
   "execution_count": 157,
   "metadata": {},
   "outputs": [],
   "source": [
    "forest = ExtraTreesClassifier(n_estimators=250)"
   ]
  },
  {
   "cell_type": "code",
   "execution_count": 158,
   "metadata": {},
   "outputs": [
    {
     "data": {
      "text/plain": [
       "ExtraTreesClassifier(bootstrap=False, class_weight=None, criterion='gini',\n",
       "           max_depth=None, max_features='auto', max_leaf_nodes=None,\n",
       "           min_impurity_decrease=0.0, min_impurity_split=None,\n",
       "           min_samples_leaf=1, min_samples_split=2,\n",
       "           min_weight_fraction_leaf=0.0, n_estimators=250, n_jobs=1,\n",
       "           oob_score=False, random_state=None, verbose=0, warm_start=False)"
      ]
     },
     "execution_count": 158,
     "metadata": {},
     "output_type": "execute_result"
    }
   ],
   "source": [
    "forest.fit(X_train, y_train)"
   ]
  },
  {
   "cell_type": "code",
   "execution_count": 159,
   "metadata": {},
   "outputs": [
    {
     "data": {
      "text/plain": [
       "0.9485375192959243"
      ]
     },
     "execution_count": 159,
     "metadata": {},
     "output_type": "execute_result"
    }
   ],
   "source": [
    "forest.score(X_test, y_test)"
   ]
  },
  {
   "cell_type": "markdown",
   "metadata": {},
   "source": [
    "We can look which are the most important features for the Decision Tree Classifiers"
   ]
  },
  {
   "cell_type": "code",
   "execution_count": 160,
   "metadata": {},
   "outputs": [
    {
     "name": "stdout",
     "output_type": "stream",
     "text": [
      "1. AGE (0.009816725729656061)\n",
      "2. CLS_WORKER (0.009816725729656061)\n",
      "3. INDUSTRY (0.009816725729656061)\n",
      "4. OCCUPATION (0.009816725729656061)\n",
      "5. EDUCATION (0.009816725729656061)\n",
      "6. WAGE (0.009816725729656061)\n",
      "7. SCHOOL (0.009816725729656061)\n",
      "8. MARITAL (0.009816725729656061)\n",
      "9. MAJ_INDUSTRY (0.009816725729656061)\n",
      "10. MAJ_OCCUPATION (0.009816725729656061)\n",
      "11. RACE (0.009816725729656061)\n",
      "12. HISPANIC (0.009816725729656061)\n",
      "13. GENDER (0.009816725729656061)\n",
      "14. UNION_MEM (0.009816725729656061)\n",
      "15. EMPLOYMENT_STATUS (0.009816725729656061)\n",
      "16. DIVVAL (0.009816725729656061)\n",
      "17. TAX_STATUS (0.009816725729656061)\n",
      "18. RESIDENCE_REG_PREV (0.009816725729656061)\n",
      "19. RESIDENCE_STATE_PREV (0.009816725729656061)\n",
      "20. HD_SUMMARY (0.009816725729656061)\n"
     ]
    }
   ],
   "source": [
    "importances = forest.feature_importances_\n",
    "std = np.std([tree.feature_importances_ for tree in forest.estimators_], axis=0)\n",
    "indices = np.argsort(importances)[::-1]\n",
    "\n",
    "for i in range(20):\n",
    "    print(\"{i}. {name} ({val})\".format(i=(i+1), name=df_train.columns[i], val=importances[indices[f]]))"
   ]
  },
  {
   "cell_type": "markdown",
   "metadata": {},
   "source": [
    "The most important features to predict if the salary of a person is above or bellow $50000 are are: Age, Class of Worker (employed), the Industry, Occupation and Education."
   ]
  },
  {
   "cell_type": "markdown",
   "metadata": {},
   "source": [
    "## Improvements\n",
    "\n",
    "There is a couple of quick things to try to improve the models.\n",
    "\n",
    "1. First of all doing a hyper-parameter search to find the best parameters for this dataset.\n",
    "1. Since there is a big skew in the classification variable (a lot of -50k compared to +50k) the model will benefit from spliting the training data more balanced, for example using a Stratified K-Fold\n",
    "1. Better feature selection: there is to many variable that represent similar things just looking at the top 20 we have for example: `OCCUPATION`, `CLS_WORKER`, `EMPLOYMENT_STATUS`"
   ]
  },
  {
   "cell_type": "code",
   "execution_count": null,
   "metadata": {},
   "outputs": [],
   "source": []
  }
 ],
 "metadata": {
  "kernelspec": {
   "display_name": "Python 3",
   "language": "python",
   "name": "python3"
  },
  "language_info": {
   "codemirror_mode": {
    "name": "ipython",
    "version": 3
   },
   "file_extension": ".py",
   "mimetype": "text/x-python",
   "name": "python",
   "nbconvert_exporter": "python",
   "pygments_lexer": "ipython3",
   "version": "3.6.6"
  }
 },
 "nbformat": 4,
 "nbformat_minor": 2
}
